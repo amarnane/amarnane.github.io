{
  "cells": [
    {
      "cell_type": "raw",
      "metadata": {},
      "source": [
        "---\n",
        "title: \"Scientific Figures - with matplotlib\"\n",
        "subtitle: |\n",
        "  Plotting in python is great but it can be hard to get started with matplotlib. Getting an ugly figure is easy, getting a good figure is hard. This might make it easier\n",
        "author: \"Aidan Marnane\"\n",
        "date: \"2023-04-27\"\n",
        "categories: [matplotlib, seaborn, python, science, phd]\n",
        "---"
      ],
      "id": "f18c3b59"
    },
    {
      "cell_type": "markdown",
      "metadata": {},
      "source": [
        "# Scientific Figures with Matplotlib\n",
        "\n",
        "Default matplotlib is awful. It is hard to learn. There is a lot going on. It is not clear. And the [matplotlib tutorial](https://matplotlib.org/stable/tutorials/introductory/quick_start.html#sphx-glr-tutorials-introductory-quick-start-py) is awful (crazily it used to be worse). **But** the package is very good (*once you get used to it*). The customisation is amazing and it is so helpful when you want to make a specfic plot for your paper/thesis/poster.\n",
        "\n",
        "Just a slight aside: Any tutorial that starts by telling you *\"everything on the figure is an artist\"* has no idea how people learn (what is an artist? Do I need to teach it to paint? will it work on its own?)\n",
        "\n",
        "# Importing Matplotlib\n",
        "To import `matplotlib` you don't import `matplotlib` because that would be obvious."
      ],
      "id": "6f01a87f"
    },
    {
      "cell_type": "code",
      "metadata": {},
      "source": [
        "import matplotlib.pyplot as plt"
      ],
      "id": "c2c92809",
      "execution_count": null,
      "outputs": []
    },
    {
      "cell_type": "markdown",
      "metadata": {},
      "source": [
        "This downloads all the functions required to make most plots. Matplotlib contains a lot of other functions/classes used to actually do the drawing/making the image. They aren't necessary for 99\\% of the figures you'll make. You might also see people use `matplotlib.pylab`. This combines `pyplot` with `numpy` functions and is very MATLAB like. It is essentially deprecated and is not recommended at all.\n",
        "\n",
        "\n",
        "## Several ways of making a plot\n",
        "First create some data"
      ],
      "id": "e51095e8"
    },
    {
      "cell_type": "code",
      "metadata": {},
      "source": [
        "import numpy as np\n",
        "import matplotlib.pyplot as plt\n",
        "x = np.linspace(0,2,100)\n",
        "y1 = x**2\n",
        "y2 = x**3"
      ],
      "id": "26541fac",
      "execution_count": null,
      "outputs": []
    },
    {
      "cell_type": "markdown",
      "metadata": {},
      "source": [
        "Pyplot-style "
      ],
      "id": "9a4a122d"
    },
    {
      "cell_type": "code",
      "metadata": {},
      "source": [
        "plt.figure(figsize=(4,3))\n",
        "plt.plot(x, y1, label='quadratic')\n",
        "plt.plot(x, y2, label='cubic')\n",
        "plt.xlabel('x')\n",
        "plt.ylabel('y')\n",
        "plt.legend()\n",
        "plt.savefig('figures/pyplotxy.png')\n",
        "plt.show()"
      ],
      "id": "cd52ee75",
      "execution_count": null,
      "outputs": []
    },
    {
      "cell_type": "markdown",
      "metadata": {},
      "source": [
        "Object Oriented or subplot style"
      ],
      "id": "0c66fb18"
    },
    {
      "cell_type": "code",
      "metadata": {},
      "source": [
        "fig, ax = plt.subplots(figsize=(4,3))\n",
        "ax.plot(x, y1, label='quadratic')\n",
        "ax.plot(x, y2, label='cubic')\n",
        "ax.set_xlabel('x')\n",
        "ax.set_ylabel('y')\n",
        "ax.legend()\n",
        "fig.savefig('figures/subplotsxy.png')\n",
        "fig.show()"
      ],
      "id": "b08ccb14",
      "execution_count": null,
      "outputs": []
    },
    {
      "cell_type": "markdown",
      "metadata": {},
      "source": [
        "IGNORE PYPLOT STYLE IT IS AWFUL AND CONFUSING\n",
        "\n",
        "While it is easy to get started with, eventually it only leads to headaches. Firstly, all the commands are slightly different so if someone has written code subplot style it is hard to change it to plt style. Secondly nearly everyone on stack overflow uses subplot style. My advice: start with subplot style and just slowly learn how to change things. \n",
        "\n",
        "## Figure vs Axes\n",
        "I always found this confusing when I was learning. And I don't think it is very intuitive (especially the plt.Figure). \n",
        "\n",
        "Essentially the Figure is your canvas. It is the image you will download. It controls the size, the resolution and the layout of the image you create. \n",
        "\n",
        "An axis is an individual plot. You can have many Axes in a Figure but each axis will have one xlabel, one ylabel, one legend etc. All the elements that make up a plot (a chart?) can be adjusted and set on an individual axis.\n",
        "\n",
        "Remember each Axis on a Figure can be adjusted individually but the quality of your image will depend on the settings of your Figure.\n",
        "\n",
        "## plt.subplots\n",
        "After much messing about and trying different ways of creating matplotlib figures I have decided this is the only way. When you make a matplotlib figure start it with this line"
      ],
      "id": "39115914"
    },
    {
      "cell_type": "code",
      "metadata": {},
      "source": [
        "fig, ax = plt.subplots()"
      ],
      "id": "905df0b3",
      "execution_count": null,
      "outputs": []
    },
    {
      "cell_type": "markdown",
      "metadata": {},
      "source": [
        "There are many settings you can change in plt.subplots\n",
        "\n",
        "- number of rows/columns - how many axes you want\n",
        "- dpi - number of dots per inch (resolution of image)\n",
        "- figsize - `(width, height)` in inches (increase if you need space)\n",
        "- sharex/sharey - common x axis or y axis for the plots\n",
        "\n",
        "Main benefit is creating a grid of axis so you can have multiple plots in the same image."
      ],
      "id": "9877144a"
    },
    {
      "cell_type": "code",
      "metadata": {},
      "source": [
        "fig, axes = plt.subplots(2,2)"
      ],
      "id": "99f29f81",
      "execution_count": null,
      "outputs": []
    },
    {
      "cell_type": "markdown",
      "metadata": {},
      "source": [
        "It creates a list of Axis instances (`axes`). To access a specific axis simply use the correct index (same as a python `list`). "
      ],
      "id": "b49bc643"
    },
    {
      "cell_type": "code",
      "metadata": {},
      "source": [
        "# access top left corner\n",
        "ax = axes[0,0]\n",
        "ax.plot(x,y1)\n",
        "\n",
        "# plot in top right corner\n",
        "ax = axes[0,1]\n",
        "ax.plot(x,y2)"
      ],
      "id": "b73f8e44",
      "execution_count": null,
      "outputs": []
    },
    {
      "cell_type": "markdown",
      "metadata": {},
      "source": [
        "Note if you only have a row or column there is only one dimension (index). So `axes[0]` will be the first row/column `axes[1]` the second etc.\n",
        "\n",
        "## Create functions\n",
        "Making good figures is hard so if you spend the time to make a function to plot some data that you will need again in the future make the code into a function. Even better add it to a `.py` file so you can import it in the future.\n",
        "\n",
        "Just remember you save and show the figure. You manipulate the data with an axis. I don't fully understand how this works in terms of memory but the way I approach plotting functions is to add a parameter to accept an axis and to create a new figure if an axis isn't passed. For example"
      ],
      "id": "fcdccd2b"
    },
    {
      "cell_type": "code",
      "metadata": {},
      "source": [
        "def myplotf(x,y,ax=None, **kwargs):\n",
        "\t# create a figure if not given an axis\n",
        "\tif ax is None:\n",
        "\t\tfig, ax  = plt.subplots()\n",
        "\telse:\n",
        "\t\tfig = None # stop not defined error when returning\n",
        "\t# plot xy\n",
        "\tax.plot(x,y, **kwargs)\n",
        "\t\n",
        "\treturn fig, ax # if ax is passed as a param then fig will be None"
      ],
      "id": "24a71c85",
      "execution_count": null,
      "outputs": []
    },
    {
      "cell_type": "markdown",
      "metadata": {},
      "source": [
        "Note: `**kwargs` means keyword arguments. `**` is a special operator in python that unpacks dictionaries. It means you don't have to constantly rewrite many optional parameters. It also collects extra keyword arguments. For example, I might want to change the linestyle and alpha of my plot. I can  call my function `myplot(x,y, linestyle='-', alpha=0.5)` and they will get passed to `ax.plot` within `myplotf`.\n",
        "\n",
        "You might also see `*args`. `*` unpacks lists. So `x,y` is an unpacked list and might be specified in the functions definition as `def myfunc(*args, **kwargs):` (which isn't very informative but happens more often than you would think.)\n",
        "\n",
        "## change dpi not figsize\n",
        "\n",
        "\n",
        "\n",
        "# seaborn\n",
        "\n",
        "Good visualisation that is easy. This package is great for getting a nice figure quickly. They recently updated the [tutorial](https://seaborn.pydata.org/tutorial/introduction.html)and it is far more intuitive now. \n",
        "\n",
        "Pros\n",
        "\n",
        "- nice figures quickly\n",
        "- easy to learn\n",
        "- integrates really nicely with pandas\n",
        "- can change theme and context (switch to poster or paper sized) with one line of code.\n",
        "\n",
        "Cons\n",
        "\n",
        "- customising figures can be tricky \n",
        "- yet another way of manipulating matplotlib figures with [figure level functions](https://seaborn.pydata.org/tutorial/function_overview.html)\n",
        "- getting pandas dataframe into the [right format](https://seaborn.pydata.org/tutorial/data_structure.html) can be tricky. (pd.melt will be your friend)\n",
        "\n",
        "Creating a good figure is incredibly simple and the equivalent figure in matplotlib would take about 10 times the amount of code. This example from their tutorial summarises it nicely."
      ],
      "id": "7eaa31ff"
    },
    {
      "cell_type": "code",
      "metadata": {},
      "source": [
        "# Import seaborn\n",
        "import seaborn as sns\n",
        "\n",
        "# Apply the default theme\n",
        "sns.set_theme()\n",
        "\n",
        "# Load an example dataset\n",
        "tips = sns.load_dataset(\"tips\")\n",
        "\n",
        "# Create a visualization\n",
        "sns.relplot(\n",
        "    data=tips,\n",
        "    x=\"total_bill\", y=\"tip\", col=\"time\",\n",
        "    hue=\"smoker\", style=\"smoker\", size=\"size\",\n",
        ")"
      ],
      "id": "1f981160",
      "execution_count": null,
      "outputs": []
    },
    {
      "cell_type": "markdown",
      "metadata": {},
      "source": [
        "I personally prefer to use axes level functions (e.g. `scatterplot`, `histplot`) so I can customise the figure options but starting off the figure level functions (e.g. `relplot`,  `displot`) are incredible.\n",
        "\n",
        "## Styles & Context\n",
        "Even if you don't use the seaborn plotting functions setting the theme and context are great for improving the aestethics. The set context is particularly useful for posters.\n",
        "\n",
        "- [Themes](https://seaborn.pydata.org/generated/seaborn.set_style.html#seaborn.set_style)\n",
        "- [Context](https://seaborn.pydata.org/generated/seaborn.set_context.html#seaborn.set_context)\n",
        "\n",
        "This `seaborn` [tutorial](https://seaborn.pydata.org/tutorial/aesthetics.html) is great and shows how you can even choose different themes for different subplot axes.\n",
        "\n",
        "`matplotlib` has it's own set of themes available. To set the theme for matplotlib it is very similar to seaborn."
      ],
      "id": "ea0ef26b"
    },
    {
      "cell_type": "code",
      "metadata": {},
      "source": [
        "plt.style.use('ggplot')\n",
        "# plot as normal\n",
        "..."
      ],
      "id": "12f2f4cc",
      "execution_count": null,
      "outputs": []
    },
    {
      "cell_type": "markdown",
      "metadata": {},
      "source": [
        "To see a list of the theme's available "
      ],
      "id": "4fcdf680"
    },
    {
      "cell_type": "code",
      "metadata": {},
      "source": [
        "plt.style.available"
      ],
      "id": "90976b5b",
      "execution_count": null,
      "outputs": []
    },
    {
      "cell_type": "markdown",
      "metadata": {},
      "source": [
        "**Note:** different theme's change different settings. Use `plt.style.use('default')` to reset before changing to a new theme.\n",
        "\n",
        "Personally I think `sns.set_context` is great for switching between paper and poster images. The increase in line width and reduction of white space is great on a poster and is so simple to switch between the two. Note: The themes available in matplotlib contain `seaborn poster` and `seaborn paper` styles. These themes do not quite replicate the behaviour of `sns.set_context` and if you have a choice between the two use `sns.set_context('poster')` over `plt.style.use('seaborn-v0_8-poster')`. \n",
        "\n",
        "\n",
        "## ggplot esque\n",
        "They have an experimental interface that is recently added `seaborn.objects`. They have a nice run through [here](https://seaborn.pydata.org/tutorial/objects_interface.html). Basic idea is you specify the data with a plot object and then add options such as type of plot (line/scatter/barchart) and data trasformations (aggregate/normalise).\n",
        "\n",
        "Looks cool and intuitive but is in development and again will be tricky to customise."
      ],
      "id": "f85dea3d"
    }
  ],
  "metadata": {
    "kernelspec": {
      "display_name": "Python 3",
      "language": "python",
      "name": "python3"
    }
  },
  "nbformat": 4,
  "nbformat_minor": 5
}